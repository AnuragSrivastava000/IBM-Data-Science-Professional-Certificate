{
 "cells": [
  {
   "cell_type": "markdown",
   "metadata": {},
   "source": [
    "<center>\n",
    "    <img src=\"https://cf-courses-data.s3.us.cloud-object-storage.appdomain.cloud/IBMDeveloperSkillsNetwork-DS0105EN-SkillsNetwork/labs/Module2/images/SN_web_lightmode.png\" width=\"300\" alt=\"cognitiveclass.ai logo\">\n",
    "</center>\n"
   ]
  },
  {
   "cell_type": "markdown",
   "metadata": {},
   "source": [
    "# Data Science Tools and Ecosystem"
   ]
  },
  {
   "cell_type": "markdown",
   "metadata": {},
   "source": [
    "In this notebook, Data Science Tools and Ecosystem are summarized."
   ]
  },
  {
   "cell_type": "markdown",
   "metadata": {},
   "source": [
    "**Objectives:**\n",
    "- Describe the components of a Data Scientist's toolkit and list various tool categories\n",
    "- List examples of Open Source, Commercial, and Cloud-based tools in various categories\n",
    "- Identify the criteria and roles for determining the language to learn\n",
    "  - Identify the users and benefits of R, SQL and Python\n",
    "  - List global communities of these languages\n",
    "- List examples of the various libraries: scientific, visualization, machine learning, and deep learning\n",
    "- Introduction to Data Asset eXchange\n",
    "- Introduction to Model Learning eXchange\n",
    "- Introduction and using Jupyter Notebooks\n",
    "- Introduction to Anaconda environment\n",
    "- Introduction to RStudio\n",
    "- Introduction to Git and Github"
   ]
  },
  {
   "cell_type": "markdown",
   "metadata": {},
   "source": [
    "\n",
    "Some of the popular languages that Data Scientists use are:\n",
    "<ol>\n",
    "    <li>Python (most popular)</li>\n",
    "    <li>R (very popular in finance and academia)</li>\n",
    "    <li>SQL (for relational databases)</li>\n",
    "    <li>C/C++ (comparatively faster, many core ML libraries like Tensorflow are written using these)</li>\n",
    "    <li>Julia (rising in popularity)</li>\n",
    "    --- and many more\n",
    "</ol>\n",
    "\n",
    "In fact, most popular languages like JAVA, VB, Scala, C# etc. now have libraries for data science and machine learning with excellent support from their respective communities."
   ]
  },
  {
   "cell_type": "markdown",
   "metadata": {},
   "source": [
    "Some of the commonly used libraries used by Data Scientists include:\n",
    "<ol>\n",
    "    <li>Pandas (best for medium size datasets)</li>\n",
    "    <li>Matplotlib (for plots and charts)</li>\n",
    "    <li>Pyspark (Apache Spark aPI for python)</li>\n",
    "    <li>Seaborn (another common one for visualisation)</li>\n",
    "    <li>Plotly (Good for itneractive visualisation)</li>\n",
    "    --- and many more\n",
    "</ol>\n",
    "\n",
    "There are also Machine Learning libraries like Scikit-Learn, Statsmodels, Tensorflow etc. that are actively used. Although most libraries mentiuoned are for Python, many are also avalaibel for other languages like C++, javascript etc."
   ]
  },
  {
   "cell_type": "markdown",
   "metadata": {},
   "source": [
    "These are some common tools used in Data Science:\n",
    "\n",
    "|Data Science Tools|\n",
    "|:-----:|\n",
    "|Watson Studio|\n",
    "|Jupyter|\n",
    "|Git|"
   ]
  },
  {
   "cell_type": "markdown",
   "metadata": {},
   "source": [
    "### Below are a few examples of evaluating arithmetic expressions in Python"
   ]
  },
  {
   "cell_type": "code",
   "execution_count": 6,
   "metadata": {},
   "outputs": [
    {
     "data": {
      "text/plain": [
       "17"
      ]
     },
     "execution_count": 6,
     "metadata": {},
     "output_type": "execute_result"
    }
   ],
   "source": [
    "#This a simple arithmetic expression to multiply then add integers\n",
    "(3*4)+5"
   ]
  },
  {
   "cell_type": "code",
   "execution_count": 8,
   "metadata": {},
   "outputs": [
    {
     "data": {
      "text/plain": [
       "'200 minutes = 3.3333333333333335 hours'"
      ]
     },
     "execution_count": 8,
     "metadata": {},
     "output_type": "execute_result"
    }
   ],
   "source": [
    "# This will convert 200 minutes to hours by diving by 60\n",
    "'200 minutes = ' + str(200/60) + ' hours'"
   ]
  },
  {
   "cell_type": "markdown",
   "metadata": {},
   "source": [
    "## Author\n",
    "Anurag Srivastava"
   ]
  }
 ],
 "metadata": {
  "kernelspec": {
   "display_name": "Python 3 (ipykernel)",
   "language": "python",
   "name": "python3"
  },
  "language_info": {
   "codemirror_mode": {
    "name": "ipython",
    "version": 3
   },
   "file_extension": ".py",
   "mimetype": "text/x-python",
   "name": "python",
   "nbconvert_exporter": "python",
   "pygments_lexer": "ipython3",
   "version": "3.12.8"
  }
 },
 "nbformat": 4,
 "nbformat_minor": 4
}
